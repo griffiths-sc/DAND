{
 "cells": [
  {
   "cell_type": "markdown",
   "metadata": {},
   "source": [
    "# PROJECT: Test a Perceptual Phenomenon - Stroop Effect\n",
    "***"
   ]
  },
  {
   "cell_type": "markdown",
   "metadata": {},
   "source": [
    "## Introduction\n",
    "The Stroop effect is a classic result of experimental psychology. In a Stroop task, participants are presented with a list of words, with each word displayed in a color of ink. The participant’s task is to say out loud the color of the ink in which the word is printed. The task has two conditions: a congruent words condition, and an incongruent words condition. In the congruent words condition, the words being displayed are color words whose names match the colors in which they are printed, for example:\n",
    "#### <font color='red'>RED</font>, <font color='blue'>BLUE</font>, <font color='green'>GREEN</font>\n",
    "In the incongruent words condition, the words displayed are color words whose names do not match the colors in which they are printed, for example:\n",
    "#### <font color='purple'>YELLOW</font>, <font color='green'>ORANGE</font>,  <font color='red'>BLUE</font>\n",
    "In each case, we measure the time it takes to name the ink colors in equally-sized lists. Each participant will go through and record a time from each condition."
   ]
  },
  {
   "cell_type": "markdown",
   "metadata": {},
   "source": [
    "The aim of this project is to investigate the supplied Stroop-test dataset, use descriptive statistics and a statistical test to analyze the Stroop effect, and use statistical inference to draw a conclusion based on the results. "
   ]
  },
  {
   "cell_type": "markdown",
   "metadata": {},
   "source": [
    "## Dataset"
   ]
  },
  {
   "cell_type": "code",
   "execution_count": 1,
   "metadata": {
    "collapsed": true
   },
   "outputs": [],
   "source": [
    "# Set up our environment by importing the necessary libraries\n",
    "\n",
    "import pandas as pd\n",
    "from scipy import stats\n",
    "\n",
    "import matplotlib.pyplot as plt\n",
    "import seaborn as sns\n",
    "\n",
    "%matplotlib inline"
   ]
  },
  {
   "cell_type": "code",
   "execution_count": 2,
   "metadata": {
    "collapsed": false
   },
   "outputs": [
    {
     "name": "stdout",
     "output_type": "stream",
     "text": [
      "24 records loaded.\n"
     ]
    }
   ],
   "source": [
    "# Load our dataset\n",
    "stroop_df=pd.read_csv('stroopdata.csv')\n",
    "print(str(len(stroop_df))+' records loaded.')"
   ]
  },
  {
   "cell_type": "code",
   "execution_count": 3,
   "metadata": {
    "collapsed": false
   },
   "outputs": [
    {
     "data": {
      "text/html": [
       "<div>\n",
       "<style>\n",
       "    .dataframe thead tr:only-child th {\n",
       "        text-align: right;\n",
       "    }\n",
       "\n",
       "    .dataframe thead th {\n",
       "        text-align: left;\n",
       "    }\n",
       "\n",
       "    .dataframe tbody tr th {\n",
       "        vertical-align: top;\n",
       "    }\n",
       "</style>\n",
       "<table border=\"1\" class=\"dataframe\">\n",
       "  <thead>\n",
       "    <tr style=\"text-align: right;\">\n",
       "      <th></th>\n",
       "      <th>Congruent</th>\n",
       "      <th>Incongruent</th>\n",
       "    </tr>\n",
       "  </thead>\n",
       "  <tbody>\n",
       "    <tr>\n",
       "      <th>0</th>\n",
       "      <td>12.079</td>\n",
       "      <td>19.278</td>\n",
       "    </tr>\n",
       "    <tr>\n",
       "      <th>1</th>\n",
       "      <td>16.791</td>\n",
       "      <td>18.741</td>\n",
       "    </tr>\n",
       "    <tr>\n",
       "      <th>2</th>\n",
       "      <td>9.564</td>\n",
       "      <td>21.214</td>\n",
       "    </tr>\n",
       "    <tr>\n",
       "      <th>3</th>\n",
       "      <td>8.630</td>\n",
       "      <td>15.687</td>\n",
       "    </tr>\n",
       "    <tr>\n",
       "      <th>4</th>\n",
       "      <td>14.669</td>\n",
       "      <td>22.803</td>\n",
       "    </tr>\n",
       "  </tbody>\n",
       "</table>\n",
       "</div>"
      ],
      "text/plain": [
       "   Congruent  Incongruent\n",
       "0     12.079       19.278\n",
       "1     16.791       18.741\n",
       "2      9.564       21.214\n",
       "3      8.630       15.687\n",
       "4     14.669       22.803"
      ]
     },
     "execution_count": 3,
     "metadata": {},
     "output_type": "execute_result"
    }
   ],
   "source": [
    "stroop_df.head()"
   ]
  },
  {
   "cell_type": "markdown",
   "metadata": {},
   "source": [
    "## Investigation"
   ]
  },
  {
   "cell_type": "markdown",
   "metadata": {},
   "source": [
    "### 1. What is our independent variable? What is our dependent variable?"
   ]
  },
  {
   "cell_type": "markdown",
   "metadata": {},
   "source": [
    "The *independent variable* in this test is the congruency of the displayed text. In other words, whether the text is congurent (ink colour matches word) or whether the text is incongruent (ink colour does not match word). This is the variable we change."
   ]
  },
  {
   "cell_type": "markdown",
   "metadata": {},
   "source": [
    "The *dependent variable* in this test is the time it takes to name the ink colour of the displayed text. This is the variable we measure."
   ]
  },
  {
   "cell_type": "markdown",
   "metadata": {},
   "source": [
    "### 2. What is an appropriate set of hypotheses for this task? What kind of statistical test do you expect to perform? Justify your choices."
   ]
  },
  {
   "cell_type": "markdown",
   "metadata": {},
   "source": [
    "The supplied dataset contains the response times for the same group of participants under two different conditions. This is a *repeated measures* design. An appropriate set of hypotheses for this task are as follows:"
   ]
  },
  {
   "cell_type": "markdown",
   "metadata": {},
   "source": [
    "If we write the mean difference as\n",
    "$$\\mu_D = \\mu_I - \\mu_C$$\n",
    "then"
   ]
  },
  {
   "cell_type": "markdown",
   "metadata": {},
   "source": [
    "**NULL HYPOTHESIS, H<sub>0</sub>** - There is no significant difference in the measured response times between the incongruent test and the congruent test:"
   ]
  },
  {
   "cell_type": "markdown",
   "metadata": {},
   "source": [
    "$$\\mu_D = 0$$"
   ]
  },
  {
   "cell_type": "markdown",
   "metadata": {},
   "source": [
    "**ALTERNATE HYPOTHESIS, H<sub>A</sub>** - There is a significant difference in the measured response times between the incongruent test and the congruent test:"
   ]
  },
  {
   "cell_type": "markdown",
   "metadata": {},
   "source": [
    "$$\\mu_D \\neq 0$$"
   ]
  },
  {
   "cell_type": "markdown",
   "metadata": {},
   "source": [
    "We do not know the population parameters, but we know the  sample size is less than 30 (*n*=24). We also assume the following:\n",
    "- The data is normally distributed.\n",
    "- The sample is representative of the population "
   ]
  },
  {
   "cell_type": "markdown",
   "metadata": {},
   "source": [
    "It is for these reasons we will perform a dependent two-tailed t-test for paired samples."
   ]
  },
  {
   "cell_type": "markdown",
   "metadata": {},
   "source": [
    "### 3. Report some descriptive statistics regarding this dataset. Include at least one measure of central tendency and at least one measure of variability."
   ]
  },
  {
   "cell_type": "markdown",
   "metadata": {},
   "source": [
    "In accordance with our hypothesis, we calculate the differences:"
   ]
  },
  {
   "cell_type": "code",
   "execution_count": 4,
   "metadata": {
    "collapsed": true
   },
   "outputs": [],
   "source": [
    "stroop_df['Difference']=stroop_df['Incongruent']-stroop_df['Congruent']"
   ]
  },
  {
   "cell_type": "code",
   "execution_count": 5,
   "metadata": {
    "collapsed": false
   },
   "outputs": [
    {
     "data": {
      "text/html": [
       "<div>\n",
       "<style>\n",
       "    .dataframe thead tr:only-child th {\n",
       "        text-align: right;\n",
       "    }\n",
       "\n",
       "    .dataframe thead th {\n",
       "        text-align: left;\n",
       "    }\n",
       "\n",
       "    .dataframe tbody tr th {\n",
       "        vertical-align: top;\n",
       "    }\n",
       "</style>\n",
       "<table border=\"1\" class=\"dataframe\">\n",
       "  <thead>\n",
       "    <tr style=\"text-align: right;\">\n",
       "      <th></th>\n",
       "      <th>count</th>\n",
       "      <th>mean</th>\n",
       "      <th>std</th>\n",
       "      <th>min</th>\n",
       "      <th>25%</th>\n",
       "      <th>50%</th>\n",
       "      <th>75%</th>\n",
       "      <th>max</th>\n",
       "    </tr>\n",
       "  </thead>\n",
       "  <tbody>\n",
       "    <tr>\n",
       "      <th>Congruent</th>\n",
       "      <td>24.0</td>\n",
       "      <td>14.051</td>\n",
       "      <td>3.559</td>\n",
       "      <td>8.630</td>\n",
       "      <td>11.895</td>\n",
       "      <td>14.356</td>\n",
       "      <td>16.201</td>\n",
       "      <td>22.328</td>\n",
       "    </tr>\n",
       "    <tr>\n",
       "      <th>Incongruent</th>\n",
       "      <td>24.0</td>\n",
       "      <td>22.016</td>\n",
       "      <td>4.797</td>\n",
       "      <td>15.687</td>\n",
       "      <td>18.717</td>\n",
       "      <td>21.018</td>\n",
       "      <td>24.052</td>\n",
       "      <td>35.255</td>\n",
       "    </tr>\n",
       "    <tr>\n",
       "      <th>Difference</th>\n",
       "      <td>24.0</td>\n",
       "      <td>7.965</td>\n",
       "      <td>4.865</td>\n",
       "      <td>1.950</td>\n",
       "      <td>3.646</td>\n",
       "      <td>7.666</td>\n",
       "      <td>10.259</td>\n",
       "      <td>21.919</td>\n",
       "    </tr>\n",
       "  </tbody>\n",
       "</table>\n",
       "</div>"
      ],
      "text/plain": [
       "             count    mean    std     min     25%     50%     75%     max\n",
       "Congruent     24.0  14.051  3.559   8.630  11.895  14.356  16.201  22.328\n",
       "Incongruent   24.0  22.016  4.797  15.687  18.717  21.018  24.052  35.255\n",
       "Difference    24.0   7.965  4.865   1.950   3.646   7.666  10.259  21.919"
      ]
     },
     "execution_count": 5,
     "metadata": {},
     "output_type": "execute_result"
    }
   ],
   "source": [
    "# Descriptive statistics\n",
    "stroop_df.describe().transpose().round(3)"
   ]
  },
  {
   "cell_type": "markdown",
   "metadata": {},
   "source": [
    "### Central Tendency\n",
    "\n",
    "Sample Means, $\\bar x$:\n",
    "\\begin{align}\n",
    "\\bar x_C &= 14.051 \\\\\n",
    "\\bar x_I &= 22.016 \\\\\n",
    "\\bar x_D &= 7.965\n",
    "\\end{align}\n",
    "\n",
    "### Variability\n",
    "\n",
    "Sample Standard Deviations, S:\n",
    "\\begin{align}\n",
    "S_C &= 3.559 \\\\\n",
    "S_I &= 4.797 \\\\\n",
    "S_D &= 4.865\n",
    "\\end{align}"
   ]
  },
  {
   "cell_type": "markdown",
   "metadata": {},
   "source": [
    "### 4. Provide one or two visualizations that show the distribution of the sample data. Write one or two sentences noting what you observe about the plot or plots."
   ]
  },
  {
   "cell_type": "code",
   "execution_count": 6,
   "metadata": {
    "collapsed": false
   },
   "outputs": [
    {
     "data": {
      "image/png": "[encoded data removed]",
      "text/plain": [
       "<matplotlib.figure.Figure at 0x92cae50>"
      ]
     },
     "metadata": {},
     "output_type": "display_data"
    }
   ],
   "source": [
    "# Create side-by-side plot of frequency distributions\n",
    "plt.figure(figsize=(14,4))\n",
    "plt.suptitle('Stroop Effect',fontsize=14)\n",
    "# Left plot\n",
    "plt.subplot(1,2,1)\n",
    "sns.distplot(stroop_df['Congruent'],bins=10,color='red')\n",
    "plt.axvline(stroop_df['Congruent'].mean(),color='r',linestyle='--',\n",
    "            linewidth=2,label='Congruent Mean')\n",
    "sns.distplot(stroop_df['Incongruent'],bins=10,color='blue')\n",
    "plt.axvline(stroop_df['Incongruent'].mean(),color='b',linestyle='--',\n",
    "            linewidth=2,label='Incongruent Mean')\n",
    "plt.title('Congruent & Incongruent Conditions')\n",
    "plt.ylabel('Count')\n",
    "plt.xlabel('Response Time')\n",
    "plt.legend()\n",
    "# Right plot\n",
    "plt.subplot(1,2,2)\n",
    "sns.distplot(stroop_df['Difference'],bins=10,color='green')\n",
    "plt.axvline(stroop_df['Difference'].mean(),color='g',linestyle='--',\n",
    "            linewidth=2,label='Difference Mean')\n",
    "plt.title('Difference')\n",
    "plt.ylabel('Count')\n",
    "plt.xlabel('Response Time')\n",
    "plt.legend()\n",
    "plt.subplots_adjust(wspace=0.4,top=0.8)\n",
    "plt.show()"
   ]
  },
  {
   "cell_type": "markdown",
   "metadata": {},
   "source": [
    "It is evident from the above plots that the test with the incongruent condition was more difficult than the test with the congruent condition, resulting in larger response times. The overall distributions are relatively normal, with outliers in the incongruent data at around 35 seconds."
   ]
  },
  {
   "cell_type": "markdown",
   "metadata": {},
   "source": [
    "### 5. Perform the statistical test and report your results. What is your confidence level and your critical statistic value? Do you reject the null hypothesis or fail to reject it? Come to a conclusion in terms of the experiment task. Did the results match up with your expectations?"
   ]
  },
  {
   "cell_type": "code",
   "execution_count": 7,
   "metadata": {
    "collapsed": false
   },
   "outputs": [
    {
     "name": "stdout",
     "output_type": "stream",
     "text": [
      "t-statistic:  8.021 \n",
      "p-value: 4.10300058571e-08\n"
     ]
    }
   ],
   "source": [
    "# Two-tailed t-test\n",
    "t_stat,p_val=stats.ttest_rel(stroop_df['Incongruent'],stroop_df['Congruent'],axis=0)\n",
    "print 't-statistic: ',round(t_stat,3),'\\np-value:',p_val"
   ]
  },
  {
   "cell_type": "markdown",
   "metadata": {},
   "source": [
    "If we assume a confidence level of 95% ($\\alpha = 0.05$):"
   ]
  },
  {
   "cell_type": "code",
   "execution_count": 8,
   "metadata": {
    "collapsed": false
   },
   "outputs": [
    {
     "name": "stdout",
     "output_type": "stream",
     "text": [
      "t-critical: 2.069\n"
     ]
    }
   ],
   "source": [
    "alpha=0.05\n",
    "dof=len(stroop_df)-1\n",
    "t_crit=abs((stats.t.ppf((alpha/2),dof)))\n",
    "print 't-critical:', round(t_crit,3)"
   ]
  },
  {
   "cell_type": "markdown",
   "metadata": {},
   "source": [
    "The t-statistic (8.021) is much greater than t-critical (2.069) which clearly places it in the critical region. The calculated p-value (4.103e-08) means the probability that the difference is due to random chance is practically zero.\n",
    "\n",
    "We reject the null hypothesis, since the results are statistically significant. In conclusion we can say that it is more difficult to determine the ink colours for the incongruent condition since there is an added element of confusion. This is shown by the increased response times, which is what we would expect."
   ]
  }
 ],
 "metadata": {
  "kernelspec": {
   "display_name": "Python [conda env:DAND]",
   "language": "python",
   "name": "conda-env-DAND-py"
  },
  "language_info": {
   "codemirror_mode": {
    "name": "ipython",
    "version": 2
   },
   "file_extension": ".py",
   "mimetype": "text/x-python",
   "name": "python",
   "nbconvert_exporter": "python",
   "pygments_lexer": "ipython2",
   "version": "2.7.12"
  }
 },
 "nbformat": 4,
 "nbformat_minor": 2
}
